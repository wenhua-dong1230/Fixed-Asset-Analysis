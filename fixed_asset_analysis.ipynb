{
 "cells": [
  {
   "cell_type": "code",
   "execution_count": 1,
   "id": "8ab3909c-2ace-4446-8aa1-8d71684e9661",
   "metadata": {},
   "outputs": [],
   "source": [
    "import pandas as pd\n",
    "import numpy as np\n",
    "from sqlalchemy import create_engine\n",
    "import matplotlib as plt\n",
    "import seaborn as sns"
   ]
  },
  {
   "cell_type": "code",
   "execution_count": 2,
   "id": "9a4aa621-ab35-4947-aa74-7e2686707441",
   "metadata": {},
   "outputs": [
    {
     "name": "stdout",
     "output_type": "stream",
     "text": [
      "数据库连接成功\n"
     ]
    }
   ],
   "source": [
    "db_user='root'\n",
    "db_password='123456'\n",
    "db_host='localhost'\n",
    "db_port='3306'\n",
    "db_name='fixed_asset_db'\n",
    "engine=create_engine(f\"mysql+pymysql://{db_user}:{db_password}@{db_host}:{db_port}/{db_name}\")\n",
    "print('数据库连接成功')"
   ]
  },
  {
   "cell_type": "markdown",
   "id": "8041d155-66a0-495e-9d5a-5d5ce02516c7",
   "metadata": {},
   "source": [
    "测试一：资产存在性测试（识别幽灵资产）   审计思路：长期没有维护保养记录、但状态仍为‘在用’的资产可能已经丢失或毁坏，但仍在账上"
   ]
  },
  {
   "cell_type": "code",
   "execution_count": 5,
   "id": "af071667-3b4d-4f4b-b91d-3e292186a6bc",
   "metadata": {},
   "outputs": [
    {
     "name": "stdout",
     "output_type": "stream",
     "text": [
      "发现297项幽灵资产：状态为在用，但已超过两年无维护记录\n",
      "     asset_id  purchase_cost purchase_date  location last_maintenance_date\n",
      "0    FA-10000       12894.84    2021-10-19       台湾省                  None\n",
      "1    FA-10001      559283.76    2019-11-08       甘肃省            2022-05-08\n",
      "2    FA-10002       90150.39    2015-08-14    内蒙古自治区            2021-11-14\n",
      "3    FA-10003      353563.91    2019-07-11   澳门特别行政区                  None\n",
      "4    FA-10004       30051.79    2022-02-12  新疆维吾尔自治区            2022-04-12\n",
      "..        ...            ...           ...       ...                   ...\n",
      "292  FA-10493      662903.89    2015-08-06       浙江省            2016-03-06\n",
      "293  FA-10494       42448.57    2016-12-01       广东省            2020-04-01\n",
      "294  FA-10496       76292.89    2019-07-31    内蒙古自治区            2021-07-28\n",
      "295  FA-10498       60383.37    2024-01-17       江苏省                  None\n",
      "296  FA-10499       73377.22    2022-12-03       台湾省                  None\n",
      "\n",
      "[297 rows x 5 columns]\n"
     ]
    }
   ],
   "source": [
    "ghost_asset_query=\"select ar.asset_id,ar.asset_name,ar.purchase_cost,ar.purchase_date,ar.location,max(ml.maintenance_date)as last_maintenance_date from asset_register ar left join maintenance_logs ml on ar.asset_id=ml.asset_id where ar.asset_status='在用' group by ar.asset_id having last_maintenance_date<date_sub(curdate(),interval 2 year) or last_maintenance_date is null;\"\n",
    "ghost_assets=pd.read_sql(ghost_asset_query,engine)\n",
    "if not ghost_assets.empty:\n",
    "    print(f\"发现{len(ghost_assets)}项幽灵资产：状态为在用，但已超过两年无维护记录\")\n",
    "    print(ghost_assets)"
   ]
  },
  {
   "cell_type": "markdown",
   "id": "804d857b-01fe-47c8-99fe-d1bdff223dd5",
   "metadata": {},
   "source": [
    "测试二：资产估值准确性测试（验证折旧计算） 审计思路：重新计算样本资产的折旧，与账面记录相比，检查是否存在系统性huo"
   ]
  },
  {
   "cell_type": "code",
   "execution_count": 9,
   "id": "1660c095-feba-47a6-a792-f43f7d1b6f89",
   "metadata": {},
   "outputs": [
    {
     "name": "stdout",
     "output_type": "stream",
     "text": [
      "发现17项资产在2024年6月的折旧计提存在计算错误\n",
      "     asset_id   period  recorded_dep  purchase_cost  useful_life_years  \\\n",
      "8    FA-10008  2024-06       3287.82      173043.37                  5   \n",
      "66   FA-10073  2024-06       1042.20      109705.04                 10   \n",
      "70   FA-10078  2024-06        229.15       24121.02                 10   \n",
      "72   FA-10080  2024-06       1170.87      123249.26                 10   \n",
      "74   FA-10083  2024-06         28.94        3046.42                 10   \n",
      "76   FA-10085  2024-06        346.39       18231.19                  5   \n",
      "138  FA-10159  2024-06       8249.73     1302589.05                 15   \n",
      "154  FA-10178  2024-06       2287.42      240780.99                 10   \n",
      "169  FA-10195  2024-06       4868.41      256232.03                  5   \n",
      "253  FA-10294  2024-06        241.90       50925.89                 20   \n",
      "254  FA-10295  2024-06        592.25       62341.78                 10   \n",
      "332  FA-10382  2024-06         61.31        9679.77                 15   \n",
      "343  FA-10394  2024-06         77.55       12244.70                 15   \n",
      "375  FA-10430  2024-06        378.01       59686.08                 15   \n",
      "395  FA-10453  2024-06         38.60        4063.37                 10   \n",
      "400  FA-10459  2024-06        653.35      103161.26                 15   \n",
      "407  FA-10467  2024-06         49.35       10390.12                 20   \n",
      "\n",
      "     salvage_rate  calculate_dep  \n",
      "8            0.05        2739.85  \n",
      "66           0.05         868.50  \n",
      "70           0.05         190.96  \n",
      "72           0.05         975.72  \n",
      "74           0.05          24.12  \n",
      "76           0.05         288.66  \n",
      "138          0.05        6874.78  \n",
      "154          0.05        1906.18  \n",
      "169          0.05        4057.01  \n",
      "253          0.05         201.58  \n",
      "254          0.05         493.54  \n",
      "332          0.05          51.09  \n",
      "343          0.05          64.62  \n",
      "375          0.05         315.01  \n",
      "395          0.05          32.17  \n",
      "400          0.05         544.46  \n",
      "407          0.05          41.13  \n"
     ]
    }
   ],
   "source": [
    "depreciation_check_query=\"select ds.asset_id,ds.period,ds.monthly_depreciation as recorded_dep,ar.purchase_cost,ar.useful_life_years,ar.salvage_rate from depreciation_schedule ds join asset_register ar on ds.asset_id=ar.asset_id where ds.period='2024-06';\"\n",
    "dep_check=pd.read_sql(depreciation_check_query,engine)\n",
    "dep_check['calculate_dep']=round((dep_check['purchase_cost']*(1-dep_check['salvage_rate']))/(dep_check['useful_life_years']*12),2)\n",
    "dep_errors=dep_check[dep_check['calculate_dep']!=dep_check['recorded_dep']]\n",
    "if not dep_errors.empty:\n",
    "    print(f\"发现{len(dep_errors)}项资产在2024年6月的折旧计提存在计算错误\")\n",
    "    print(dep_errors)"
   ]
  },
  {
   "cell_type": "markdown",
   "id": "40b815ce-a2fb-4272-a307-88928ace135e",
   "metadata": {},
   "source": [
    "测试三：资产减值风险评估（识别闲置资产）  审计思路：长期闲置的资产无法为企业带来经济利益，其价值可能已经发生减损，需计提减值准备"
   ]
  },
  {
   "cell_type": "code",
   "execution_count": 11,
   "id": "57e4518f-59a1-4740-8cd0-e24661e1b8a8",
   "metadata": {},
   "outputs": [
    {
     "name": "stdout",
     "output_type": "stream",
     "text": [
      "发现56项闲置资产，需评估是否存在减值风险\n",
      "    asset_id asset_name location department  purchase_cost purchase_date\n",
      "0   FA-10034   运输卡车 #34      天津市    网络有限公司部       35950.34    2022-03-10\n",
      "1   FA-10036   精密机床 #36      四川省    传媒有限公司部       91544.43    2023-01-31\n",
      "2   FA-10041   精密机床 #41      陕西省    网络有限公司部       10690.55    2022-01-11\n",
      "3   FA-10046   办公电脑 #46      台湾省    网络有限公司部      205042.58    2018-02-22\n",
      "4   FA-10066    服务器 #66     黑龙江省    科技有限公司部      103263.36    2022-06-19\n",
      "5   FA-10071   办公电脑 #71      河南省    网络有限公司部        4246.90    2023-08-11\n",
      "6   FA-10084   运输卡车 #84      台湾省    信息有限公司部       44189.84    2018-08-25\n",
      "7   FA-10098   精密机床 #98     黑龙江省    信息有限公司部        8955.80    2023-08-10\n",
      "8   FA-10101  精密机床 #101      台湾省    网络有限公司部       72314.42    2022-06-20\n",
      "9   FA-10103   服务器 #103      陕西省    网络有限公司部       31781.50    2021-10-12\n",
      "10  FA-10108  办公电脑 #108      天津市    科技有限公司部      185070.90    2017-05-13\n",
      "11  FA-10111   服务器 #111      广东省    信息有限公司部       81673.71    2016-02-09\n",
      "12  FA-10114  运输卡车 #114      广东省    传媒有限公司部       53281.56    2023-02-02\n",
      "13  FA-10115  精密机床 #115  香港特别行政区    信息有限公司部       59583.65    2024-04-22\n",
      "14  FA-10116  运输卡车 #116    西藏自治区    信息有限公司部        3865.51    2017-05-13\n",
      "15  FA-10124  精密机床 #124      海南省    科技有限公司部       80366.01    2023-04-02\n",
      "16  FA-10129  精密机床 #129  香港特别行政区    科技有限公司部       21577.78    2022-01-04\n",
      "17  FA-10136  办公电脑 #136      辽宁省    科技有限公司部        8769.95    2016-02-09\n",
      "18  FA-10149   服务器 #149      云南省    科技有限公司部        3557.83    2019-04-25\n",
      "19  FA-10152  运输卡车 #152      江苏省    传媒有限公司部       78262.93    2022-08-07\n",
      "20  FA-10156  办公电脑 #156      重庆市    传媒有限公司部       48390.99    2019-06-23\n",
      "21  FA-10161  精密机床 #161      湖北省    网络有限公司部       10165.87    2018-08-05\n",
      "22  FA-10180  精密机床 #180      陕西省    科技有限公司部       79411.34    2016-06-18\n",
      "23  FA-10183  运输卡车 #183      海南省    信息有限公司部        8686.96    2019-01-30\n",
      "24  FA-10204   服务器 #204  宁夏回族自治区    信息有限公司部       24007.72    2020-05-05\n",
      "25  FA-10210  办公电脑 #210      山东省    信息有限公司部      175948.69    2015-12-30\n",
      "26  FA-10213  精密机床 #213      辽宁省    传媒有限公司部       88220.48    2024-05-22\n",
      "27  FA-10233  运输卡车 #233      贵州省    传媒有限公司部       83970.12    2017-02-13\n",
      "28  FA-10236  精密机床 #236      湖南省    信息有限公司部        4812.43    2017-05-11\n",
      "29  FA-10244  精密机床 #244   内蒙古自治区    传媒有限公司部      206901.36    2023-01-26\n",
      "30  FA-10246  办公电脑 #246      贵州省    信息有限公司部        7159.68    2018-06-01\n",
      "31  FA-10248  运输卡车 #248      吉林省    传媒有限公司部      217870.86    2023-08-16\n",
      "32  FA-10260  办公电脑 #260      福建省    网络有限公司部      114803.69    2018-09-26\n",
      "33  FA-10269  运输卡车 #269      四川省    信息有限公司部        3728.51    2020-02-06\n",
      "34  FA-10279  办公电脑 #279      湖北省    信息有限公司部      267282.51    2017-02-10\n",
      "35  FA-10281  精密机床 #281      江苏省    科技有限公司部      191674.64    2018-07-08\n",
      "36  FA-10292   服务器 #292      河北省    传媒有限公司部       80041.43    2018-06-08\n",
      "37  FA-10300  精密机床 #300  香港特别行政区    网络有限公司部       14611.04    2018-08-25\n",
      "38  FA-10301   服务器 #301      上海市    传媒有限公司部     1456835.69    2018-01-05\n",
      "39  FA-10302  精密机床 #302      四川省    科技有限公司部        9578.26    2018-10-28\n",
      "40  FA-10320  办公电脑 #320      海南省    科技有限公司部       78903.68    2016-04-01\n",
      "41  FA-10330  办公电脑 #330      台湾省    传媒有限公司部       25937.30    2016-11-10\n",
      "42  FA-10332  运输卡车 #332      吉林省    信息有限公司部      183277.78    2023-03-03\n",
      "43  FA-10346   服务器 #346  香港特别行政区    科技有限公司部      794849.57    2020-05-19\n",
      "44  FA-10347  办公电脑 #347      北京市    传媒有限公司部       65001.40    2022-07-03\n",
      "45  FA-10357  办公电脑 #357      重庆市    信息有限公司部       30002.18    2023-04-16\n",
      "46  FA-10368  运输卡车 #368      辽宁省    科技有限公司部        5489.51    2016-10-19\n",
      "47  FA-10375   服务器 #375      吉林省    科技有限公司部       75918.39    2020-02-27\n",
      "48  FA-10377   服务器 #377  香港特别行政区    传媒有限公司部       78091.32    2023-10-28\n",
      "49  FA-10391   服务器 #391      福建省    网络有限公司部       27158.59    2023-09-19\n",
      "50  FA-10406  精密机床 #406      湖北省    传媒有限公司部       33129.40    2016-09-22\n",
      "51  FA-10415  运输卡车 #415      北京市    信息有限公司部       52283.37    2017-12-12\n",
      "52  FA-10418   服务器 #418      河北省    科技有限公司部        5395.20    2020-05-22\n",
      "53  FA-10447   服务器 #447  宁夏回族自治区    科技有限公司部       64112.68    2024-03-10\n",
      "54  FA-10456  办公电脑 #456      广东省    信息有限公司部       33679.74    2021-10-17\n",
      "55  FA-10465  办公电脑 #465      云南省    传媒有限公司部       80827.15    2023-04-10\n"
     ]
    }
   ],
   "source": [
    "idle_asset_query=\"select asset_id,asset_name,location,department,purchase_cost,purchase_date from asset_register where asset_status='闲置';\"\n",
    "idle_assets=pd.read_sql(idle_asset_query,engine)\n",
    "if not idle_assets.empty:\n",
    "    print(f\"发现{idle_assets.shape[0]}项闲置资产，需评估是否存在减值风险\")\n",
    "    print(idle_assets)"
   ]
  },
  {
   "cell_type": "markdown",
   "id": "48cdc263-442a-42eb-a7ac-bfc56588ff4f",
   "metadata": {},
   "source": [
    "测试四：资产处置合规性分析    审计思路：处置过程中的巨大亏损可能意味着资产的账面净值在处置前就已不准确，或处置过程不合规。"
   ]
  },
  {
   "cell_type": "code",
   "execution_count": 14,
   "id": "fcc2683c-c3d2-467b-aa5d-f988f57446b9",
   "metadata": {},
   "outputs": [
    {
     "name": "stdout",
     "output_type": "stream",
     "text": [
      "未发现发生重大亏损的资产处置\n"
     ]
    }
   ],
   "source": [
    "disposal_analysis_query=\"select asset_id,disposal_date,disposal_method,proceeds,net_book_value_at_disposal,net_gain_loss from disposal_records order by net_gain_loss ASC;\"\n",
    "disposal_analysis=pd.read_sql(disposal_analysis_query,engine)\n",
    "large_loss_disposals=disposal_analysis[disposal_analysis['net_gain_loss']<-50000]\n",
    "if not large_loss_disposals.empty:\n",
    "    print(f\"发现{large_loss_disposals.shape[0]}项资产处置产生重大亏损，需审查其评估定价及审批流程\")\n",
    "    print(large_loss_disposals)\n",
    "else:\n",
    "    print('未发现发生重大亏损的资产处置')"
   ]
  },
  {
   "cell_type": "code",
   "execution_count": null,
   "id": "3f1b6a16-7f1b-43c5-a8dd-f45f4967b880",
   "metadata": {},
   "outputs": [],
   "source": []
  }
 ],
 "metadata": {
  "kernelspec": {
   "display_name": "Python 3 (ipykernel)",
   "language": "python",
   "name": "python3"
  },
  "language_info": {
   "codemirror_mode": {
    "name": "ipython",
    "version": 3
   },
   "file_extension": ".py",
   "mimetype": "text/x-python",
   "name": "python",
   "nbconvert_exporter": "python",
   "pygments_lexer": "ipython3",
   "version": "3.11.13"
  }
 },
 "nbformat": 4,
 "nbformat_minor": 5
}
