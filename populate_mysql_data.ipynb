{
 "cells": [
  {
   "cell_type": "code",
   "execution_count": 8,
   "id": "4db84fa5-32b5-4d4d-8bff-eec163c5ee03",
   "metadata": {},
   "outputs": [],
   "source": [
    "import pandas as pd\n",
    "import numpy as np\n",
    "from sqlalchemy  import create_engine\n",
    "from faker import Faker\n",
    "from datetime import datetime,timedelta,date\n",
    "from dateutil.relativedelta import relativedelta"
   ]
  },
  {
   "cell_type": "code",
   "execution_count": 9,
   "id": "18b21e0b-f46b-4897-b81b-e316b8a957fa",
   "metadata": {},
   "outputs": [
    {
     "name": "stdout",
     "output_type": "stream",
     "text": [
      "固定资产模拟数据已生成。\n"
     ]
    }
   ],
   "source": [
    "fake = Faker('zh_CN')\n",
    "def generate_fixed_asset_data(num_assets=500):\n",
    "    # 资产主台账\n",
    "    assets = []\n",
    "    for i in range(num_assets):\n",
    "        purchase_date = fake.date_between(start_date='-10y', end_date='-1y')\n",
    "        useful_life = np.random.choice([5, 10, 15, 20])\n",
    "        status = '在用' if (date.today() - purchase_date).days / 365.25 < useful_life else '报废'\n",
    "        if np.random.rand() < 0.1: status = '闲置'\n",
    "\n",
    "        assets.append({\n",
    "            'asset_id': f'FA-{10000+i}',\n",
    "            'asset_name': f'{np.random.choice([\"精密机床\", \"服务器\", \"运输卡车\", \"办公电脑\"])} #{i}',\n",
    "            'asset_category': np.random.choice([\"生产设备\", \"电子设备\", \"运输工具\"]),\n",
    "            'purchase_cost': round(np.random.lognormal(11, 1.5), 2),\n",
    "            'purchase_date': purchase_date,\n",
    "            'useful_life_years': useful_life,\n",
    "            'salvage_rate': 0.05,\n",
    "            'asset_status': status,\n",
    "            'location': fake.province(),\n",
    "            'department': fake.company_suffix() + \"部\"\n",
    "        })\n",
    "    asset_df = pd.DataFrame(assets)\n",
    "\n",
    "    # 折旧、维保、处置记录\n",
    "    dep_records, maint_records, disp_records = [], [], []\n",
    "    for _, asset in asset_df.iterrows():\n",
    "        depreciable_base = asset['purchase_cost'] * (1 - asset['salvage_rate'])\n",
    "        monthly_dep = depreciable_base / (asset['useful_life_years'] * 12)\n",
    "        \n",
    "        # 植入异常：折旧计算错误\n",
    "        if np.random.rand() < 0.05:\n",
    "            monthly_dep *= 1.2 # 错误地多计提20%\n",
    "        \n",
    "        acc_dep = 0\n",
    "        current_date = asset['purchase_date']\n",
    "        end_date = date.today()\n",
    "\n",
    "        while current_date < end_date:\n",
    "            period_str = current_date.strftime('%Y-%m')\n",
    "            \n",
    "            # 折旧\n",
    "            if acc_dep < depreciable_base:\n",
    "                acc_dep += monthly_dep\n",
    "                dep_records.append({\n",
    "                    'asset_id': asset['asset_id'],\n",
    "                    'period': period_str,\n",
    "                    'monthly_depreciation': round(monthly_dep, 2),\n",
    "                    'accumulated_depreciation': round(acc_dep, 2)\n",
    "                })\n",
    "\n",
    "            # 维保\n",
    "            # 植入异常：幽灵资产\n",
    "            if np.random.rand() < (0.01 if asset['asset_status'] == '在用' else 0.001):\n",
    "                 maint_records.append({\n",
    "                    'asset_id': asset['asset_id'],\n",
    "                    'maintenance_date': current_date,\n",
    "                    'maintenance_cost': round(asset['purchase_cost'] * 0.01 * np.random.rand(), 2),\n",
    "                    'details': '常规检查'\n",
    "                })\n",
    "\n",
    "            current_date += relativedelta(months=1)\n",
    "        \n",
    "        # 处置\n",
    "        if asset['asset_status'] == '报废':\n",
    "            nbv = asset['purchase_cost'] - acc_dep\n",
    "            proceeds = asset['purchase_cost'] * asset['salvage_rate'] * (1 + (np.random.rand() - 0.5) * 0.2)\n",
    "            disp_records.append({\n",
    "                'asset_id': asset['asset_id'],\n",
    "                'disposal_date': asset['purchase_date'] + relativedelta(years=asset['useful_life_years']),\n",
    "                'disposal_method': '报废',\n",
    "                'proceeds': round(proceeds,2),\n",
    "                'net_book_value_at_disposal': round(nbv, 2),\n",
    "                'net_gain_loss': round(proceeds - nbv, 2)\n",
    "            })\n",
    "            \n",
    "    return asset_df, pd.DataFrame(dep_records), pd.DataFrame(maint_records), pd.DataFrame(disp_records)\n",
    "\n",
    "assets, depreciation, maintenance, disposals = generate_fixed_asset_data()\n",
    "print(\"固定资产模拟数据已生成。\")\n",
    "\n"
   ]
  },
  {
   "cell_type": "code",
   "execution_count": 11,
   "id": "a61e5c74-b6b8-43d2-9c13-675d4ce49717",
   "metadata": {},
   "outputs": [
    {
     "name": "stdout",
     "output_type": "stream",
     "text": [
      "数据已成功写入数据库\n"
     ]
    }
   ],
   "source": [
    "db_user='root'\n",
    "db_password='123456'\n",
    "db_host='localhost'\n",
    "db_port='3306'\n",
    "db_name='fixed_asset_db'\n",
    "try:\n",
    "    engine=create_engine(f\"mysql+pymysql://{db_user}:{db_password}@{db_host}:{db_port}/{db_name}\")\n",
    "    assets.to_sql('asset_register',engine,if_exists='append',index=False)\n",
    "    depreciation.to_sql('depreciation_schedule',engine,if_exists='append',index=False)\n",
    "    maintenance.to_sql('maintenance_logs',engine,if_exists='append',index=False)\n",
    "    disposals.to_sql('disposal_records',engine,if_exists='append',index=False)\n",
    "    print('数据已成功写入数据库')\n",
    "except Exception as e:\n",
    "    print(f'发生错误:{e}')"
   ]
  },
  {
   "cell_type": "code",
   "execution_count": null,
   "id": "16a94cd3-1116-42f8-be6f-982271c172af",
   "metadata": {},
   "outputs": [],
   "source": []
  }
 ],
 "metadata": {
  "kernelspec": {
   "display_name": "Python 3 (ipykernel)",
   "language": "python",
   "name": "python3"
  },
  "language_info": {
   "codemirror_mode": {
    "name": "ipython",
    "version": 3
   },
   "file_extension": ".py",
   "mimetype": "text/x-python",
   "name": "python",
   "nbconvert_exporter": "python",
   "pygments_lexer": "ipython3",
   "version": "3.11.13"
  }
 },
 "nbformat": 4,
 "nbformat_minor": 5
}
